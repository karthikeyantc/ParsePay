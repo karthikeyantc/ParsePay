{
 "cells": [
  {
   "cell_type": "markdown",
   "id": "7003c3a4",
   "metadata": {},
   "source": [
    "# Exploratory Data Analysis (EDA)\n",
    "\n",
    "This notebook is designed to analyze the SMS dataset and understand its structure."
   ]
  },
  {
   "cell_type": "code",
   "execution_count": null,
   "id": "65ec91a2",
   "metadata": {},
   "outputs": [],
   "source": [
    "import pandas as pd\n",
    "import matplotlib.pyplot as plt\n",
    "import seaborn as sns\n",
    "\n",
    "# Load the dataset\n",
    "data_path = '../data/sms_data.csv'\n",
    "data = pd.read_csv(data_path)\n",
    "\n",
    "# Display the first few rows\n",
    "data.head()"
   ]
  },
  {
   "cell_type": "code",
   "execution_count": null,
   "id": "74bca173",
   "metadata": {},
   "outputs": [],
   "source": [
    "# Check for missing values\n",
    "data.isnull().sum()"
   ]
  },
  {
   "cell_type": "code",
   "execution_count": null,
   "id": "859293f5",
   "metadata": {},
   "outputs": [],
   "source": [
    "# Visualize the distribution of labels\n",
    "sns.countplot(x='label', data=data)\n",
    "plt.title('Distribution of SMS Labels')\n",
    "plt.show()"
   ]
  }
 ],
 "metadata": {
  "language_info": {
   "name": "python"
  }
 },
 "nbformat": 4,
 "nbformat_minor": 5
}
